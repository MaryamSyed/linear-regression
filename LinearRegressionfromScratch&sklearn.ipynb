{
  "nbformat": 4,
  "nbformat_minor": 0,
  "metadata": {
    "colab": {
      "name": "LinearRegressionfromScratch&sklearn.ipynb",
      "provenance": [],
      "collapsed_sections": [],
      "authorship_tag": "ABX9TyMH42qrVi5q3sO1HGlRSTed",
      "include_colab_link": true
    },
    "kernelspec": {
      "name": "python3",
      "display_name": "Python 3"
    }
  },
  "cells": [
    {
      "cell_type": "markdown",
      "metadata": {
        "id": "view-in-github",
        "colab_type": "text"
      },
      "source": [
        "<a href=\"https://colab.research.google.com/github/MaryamSyed/linear-regression/blob/master/LinearRegressionfromScratch%26sklearn.ipynb\" target=\"_parent\"><img src=\"https://colab.research.google.com/assets/colab-badge.svg\" alt=\"Open In Colab\"/></a>"
      ]
    },
    {
      "cell_type": "markdown",
      "metadata": {
        "id": "HIU3Eo4SVDE-",
        "colab_type": "text"
      },
      "source": [
        "Linear Regression from Scratch"
      ]
    },
    {
      "cell_type": "code",
      "metadata": {
        "id": "_bWJd8vzaKq5",
        "colab_type": "code",
        "colab": {}
      },
      "source": [
        "import numpy as np\n",
        "import matplotlib.pyplot as plt\n",
        "from sklearn.linear_model import LinearRegression\n",
        "import pandas as pd\n",
        "import seaborn as sns"
      ],
      "execution_count": 0,
      "outputs": []
    },
    {
      "cell_type": "code",
      "metadata": {
        "id": "lcRoHdTtVLOl",
        "colab_type": "code",
        "colab": {}
      },
      "source": [
        "#Creating the cost function\n",
        "\n",
        "def cost_function(m, b, x, y):\n",
        "    totalError = 0\n",
        "    for i in range(0, len(x)):\n",
        "        totalError += (y[i]-(m*x[i]+b))**2\n",
        "    return totalError/float(len(x))\n"
      ],
      "execution_count": 0,
      "outputs": []
    },
    {
      "cell_type": "code",
      "metadata": {
        "id": "6t7TFGNwWZDl",
        "colab_type": "code",
        "colab": {}
      },
      "source": [
        "#gradient descent algorithom\n",
        "def gradient_descent(b, m, x, y, learning_rate, num_iterations):\n",
        "    N = float(len(x))\n",
        "    \n",
        "    for j in range(num_iterations): \n",
        "        b_gradient = 0\n",
        "        m_gradient = 0\n",
        "        for i in range(0, len(x)):\n",
        "            b_gradient += -(2/N) * (y[i] - ((m * x[i]) + b))\n",
        "            m_gradient += -(2/N) * x[i] * (y[i] - ((m * x[i]) + b))\n",
        "        b -= (learning_rate * b_gradient)\n",
        "        m -= (learning_rate * m_gradient)\n",
        "        #Printing error after every 100 iterations \n",
        "        if j%100==0:\n",
        "            print(\"MSE after \" + str(j) + \" iterations: \" + str(cost_function(m, b, x, y)))\n",
        "    return [b, m]"
      ],
      "execution_count": 0,
      "outputs": []
    },
    {
      "cell_type": "code",
      "metadata": {
        "id": "NFe8U8joaIhy",
        "colab_type": "code",
        "outputId": "dcd40658-8cef-460e-ede8-3b1217777652",
        "colab": {
          "base_uri": "https://localhost:8080/",
          "height": 283
        }
      },
      "source": [
        "#Creating random data using linspace\n",
        "\n",
        "x = np.linspace(0, 50, 100) #produces 50 numbers evenly spaced between 0 and 100\n",
        "delta = np.random.uniform(-10,10,x.size)\n",
        "y=0.5*x + 3 + delta\n",
        "\n",
        "plt.scatter(x,y)"
      ],
      "execution_count": 0,
      "outputs": [
        {
          "output_type": "execute_result",
          "data": {
            "text/plain": [
              "<matplotlib.collections.PathCollection at 0x7f9460e90860>"
            ]
          },
          "metadata": {
            "tags": []
          },
          "execution_count": 39
        },
        {
          "output_type": "display_data",
          "data": {
            "image/png": "[encoded data removed]",
            "text/plain": [
              "<Figure size 432x288 with 1 Axes>"
            ]
          },
          "metadata": {
            "tags": []
          }
        }
      ]
    },
    {
      "cell_type": "code",
      "metadata": {
        "id": "Sa7EO52UbKYO",
        "colab_type": "code",
        "outputId": "2d0ea9b2-c7f3-42cb-94c0-61b21ea73c13",
        "colab": {
          "base_uri": "https://localhost:8080/",
          "height": 260
        }
      },
      "source": [
        "#Defining learning rate\n",
        "learning_rate = 0.0001\n",
        "\n",
        "initial_b = 0\n",
        "initial_m = 0\n",
        "\n",
        "num_iterations= 1000\n",
        "\n",
        "print('Initial MSE:', cost_function(initial_m, initial_b, x, y))\n",
        "[b, m] = gradient_descent(initial_b, initial_m, x, y, learning_rate, num_iterations)\n",
        "print('b:', b)\n",
        "print('m:', m)\n",
        "print('MSE:', cost_function(m, b, x, y))\n"
      ],
      "execution_count": 0,
      "outputs": [
        {
          "output_type": "stream",
          "text": [
            "Initial MSE: 334.25658312083493\n",
            "MSE after 0 iterations: 241.26410117857998\n",
            "MSE after 100 iterations: 31.544801623738874\n",
            "MSE after 200 iterations: 31.53659994460959\n",
            "MSE after 300 iterations: 31.52848102629325\n",
            "MSE after 400 iterations: 31.520444033673915\n",
            "MSE after 500 iterations: 31.512488140062732\n",
            "MSE after 600 iterations: 31.50461252711264\n",
            "MSE after 700 iterations: 31.49681638473428\n",
            "MSE after 800 iterations: 31.48909891101272\n",
            "MSE after 900 iterations: 31.48145931212493\n",
            "b: 0.10687954177458195\n",
            "m: 0.5979899689374227\n",
            "MSE: 31.47397204832677\n"
          ],
          "name": "stdout"
        }
      ]
    },
    {
      "cell_type": "code",
      "metadata": {
        "id": "KxP-aAe0e4uj",
        "colab_type": "code",
        "outputId": "304567fd-dd66-44f3-ba00-ecb4d2de4180",
        "colab": {
          "base_uri": "https://localhost:8080/",
          "height": 283
        }
      },
      "source": [
        "predictions = [(m*x[i]) + b for i in range(len(x))]\n",
        "plt.scatter(x,y)\n",
        "plt.plot(x,predictions,color='r')"
      ],
      "execution_count": 0,
      "outputs": [
        {
          "output_type": "execute_result",
          "data": {
            "text/plain": [
              "[<matplotlib.lines.Line2D at 0x7f9460e905c0>]"
            ]
          },
          "metadata": {
            "tags": []
          },
          "execution_count": 41
        },
        {
          "output_type": "display_data",
          "data": {
            "image/png": "[encoded data removed]",
            "text/plain": [
              "<Figure size 432x288 with 1 Axes>"
            ]
          },
          "metadata": {
            "tags": []
          }
        }
      ]
    },
    {
      "cell_type": "markdown",
      "metadata": {
        "id": "lf5-AC8hhd1Z",
        "colab_type": "text"
      },
      "source": [
        "Linear Regression in sklearn"
      ]
    },
    {
      "cell_type": "code",
      "metadata": {
        "id": "Dmf9rGFBhgXD",
        "colab_type": "code",
        "outputId": "c8940942-f2aa-4a08-8d59-e9ea451cacc7",
        "colab": {
          "base_uri": "https://localhost:8080/",
          "height": 52
        }
      },
      "source": [
        "#Changing the shape of x array from one dimensional to 2 dimensional for sklearn\n",
        "\n",
        "print(x.shape)\n",
        "x = x.reshape(-1,1)\n",
        "print(x.shape)"
      ],
      "execution_count": 0,
      "outputs": [
        {
          "output_type": "stream",
          "text": [
            "(100,)\n",
            "(100, 1)\n"
          ],
          "name": "stdout"
        }
      ]
    },
    {
      "cell_type": "code",
      "metadata": {
        "id": "6HBTAb8YlZr1",
        "colab_type": "code",
        "outputId": "95d08d8a-4873-4fd0-9ca9-8bae68a6f4ca",
        "colab": {
          "base_uri": "https://localhost:8080/",
          "height": 35
        }
      },
      "source": [
        "#Creating model object using LinearRegression\n",
        "model = LinearRegression()\n",
        "\n",
        "#fit model to our input data x,y\n",
        "model.fit(x,y)"
      ],
      "execution_count": 0,
      "outputs": [
        {
          "output_type": "execute_result",
          "data": {
            "text/plain": [
              "LinearRegression(copy_X=True, fit_intercept=True, n_jobs=None, normalize=False)"
            ]
          },
          "metadata": {
            "tags": []
          },
          "execution_count": 43
        }
      ]
    },
    {
      "cell_type": "code",
      "metadata": {
        "id": "qt4eSy0fl2CE",
        "colab_type": "code",
        "outputId": "d90d0a5c-1dc3-4669-9305-285524741fa4",
        "colab": {
          "base_uri": "https://localhost:8080/",
          "height": 52
        }
      },
      "source": [
        "#Model parameters\n",
        "\n",
        "print('Y Intercept: ' , model.intercept_) #b\n",
        "print('Gradient: ', model.coef_) #m"
      ],
      "execution_count": 0,
      "outputs": [
        {
          "output_type": "stream",
          "text": [
            "Y Intercept:  1.8167865917456023\n",
            "Gradient:  [0.54693508]\n"
          ],
          "name": "stdout"
        }
      ]
    },
    {
      "cell_type": "code",
      "metadata": {
        "id": "kk45mcHWmgVc",
        "colab_type": "code",
        "outputId": "28bfb2c3-c313-4555-aa4a-a4978db2b8b7",
        "colab": {
          "base_uri": "https://localhost:8080/",
          "height": 52
        }
      },
      "source": [
        "#Model parameters from linear regression model created from scratch\n",
        "\n",
        "print('Y Intercept: ' , b) #b\n",
        "print('Gradient: ', m) #m"
      ],
      "execution_count": 0,
      "outputs": [
        {
          "output_type": "stream",
          "text": [
            "Y Intercept:  0.10687954177458195\n",
            "Gradient:  0.5979899689374227\n"
          ],
          "name": "stdout"
        }
      ]
    },
    {
      "cell_type": "code",
      "metadata": {
        "id": "Jxa2fjfom3AD",
        "colab_type": "code",
        "colab": {}
      },
      "source": [
        "#Storing predictions in y_pred\n",
        "\n",
        "y_pred = model.predict(x)"
      ],
      "execution_count": 0,
      "outputs": []
    },
    {
      "cell_type": "code",
      "metadata": {
        "id": "NuQ7vPzJnCnv",
        "colab_type": "code",
        "outputId": "681961e1-4fec-4346-bc31-8d27dee811fd",
        "colab": {
          "base_uri": "https://localhost:8080/",
          "height": 283
        }
      },
      "source": [
        "#Plotting predicted line from sklearn linear regression model and model created from scratch\n",
        "plt.scatter(x,y)\n",
        "plt.plot(x,y_pred,color='r')\n",
        "plt.plot(x,predictions,color='b')"
      ],
      "execution_count": 0,
      "outputs": [
        {
          "output_type": "execute_result",
          "data": {
            "text/plain": [
              "[<matplotlib.lines.Line2D at 0x7f9460ce5390>]"
            ]
          },
          "metadata": {
            "tags": []
          },
          "execution_count": 49
        },
        {
          "output_type": "display_data",
          "data": {
            "image/png": "[encoded data removed]",
            "text/plain": [
              "<Figure size 432x288 with 1 Axes>"
            ]
          },
          "metadata": {
            "tags": []
          }
        }
      ]
    },
    {
      "cell_type": "markdown",
      "metadata": {
        "id": "SqgckSeUn36H",
        "colab_type": "text"
      },
      "source": [
        "Linear Regression on Olympic 100m Gold Times"
      ]
    },
    {
      "cell_type": "code",
      "metadata": {
        "id": "t2f7dsPsn9KZ",
        "colab_type": "code",
        "outputId": "98df822c-7711-49b4-ddc7-377ab256eb64",
        "colab": {
          "base_uri": "https://localhost:8080/",
          "height": 202
        }
      },
      "source": [
        "file_name = \"https://raw.githubusercontent.com/maryamsyed/linear-regression/master/olympic100m.csv\"\n",
        "df = pd.read_csv(file_name)\n",
        "df.head()"
      ],
      "execution_count": 0,
      "outputs": [
        {
          "output_type": "execute_result",
          "data": {
            "text/html": [
              "<div>\n",
              "<style scoped>\n",
              "    .dataframe tbody tr th:only-of-type {\n",
              "        vertical-align: middle;\n",
              "    }\n",
              "\n",
              "    .dataframe tbody tr th {\n",
              "        vertical-align: top;\n",
              "    }\n",
              "\n",
              "    .dataframe thead th {\n",
              "        text-align: right;\n",
              "    }\n",
              "</style>\n",
              "<table border=\"1\" class=\"dataframe\">\n",
              "  <thead>\n",
              "    <tr style=\"text-align: right;\">\n",
              "      <th></th>\n",
              "      <th>year</th>\n",
              "      <th>time</th>\n",
              "    </tr>\n",
              "  </thead>\n",
              "  <tbody>\n",
              "    <tr>\n",
              "      <th>0</th>\n",
              "      <td>1896</td>\n",
              "      <td>12.0</td>\n",
              "    </tr>\n",
              "    <tr>\n",
              "      <th>1</th>\n",
              "      <td>1900</td>\n",
              "      <td>11.0</td>\n",
              "    </tr>\n",
              "    <tr>\n",
              "      <th>2</th>\n",
              "      <td>1904</td>\n",
              "      <td>11.0</td>\n",
              "    </tr>\n",
              "    <tr>\n",
              "      <th>3</th>\n",
              "      <td>1906</td>\n",
              "      <td>11.2</td>\n",
              "    </tr>\n",
              "    <tr>\n",
              "      <th>4</th>\n",
              "      <td>1908</td>\n",
              "      <td>10.8</td>\n",
              "    </tr>\n",
              "  </tbody>\n",
              "</table>\n",
              "</div>"
            ],
            "text/plain": [
              "   year  time\n",
              "0  1896  12.0\n",
              "1  1900  11.0\n",
              "2  1904  11.0\n",
              "3  1906  11.2\n",
              "4  1908  10.8"
            ]
          },
          "metadata": {
            "tags": []
          },
          "execution_count": 55
        }
      ]
    },
    {
      "cell_type": "code",
      "metadata": {
        "id": "6YFPLqZWqA_j",
        "colab_type": "code",
        "outputId": "d3a3ba9c-00c6-43c2-c7f6-f03cc9d8b55b",
        "colab": {
          "base_uri": "https://localhost:8080/",
          "height": 35
        }
      },
      "source": [
        "x = df['year']\n",
        "x_train = np.array(x).reshape(-1,1)\n",
        "x_train.shape"
      ],
      "execution_count": 0,
      "outputs": [
        {
          "output_type": "execute_result",
          "data": {
            "text/plain": [
              "(29, 1)"
            ]
          },
          "metadata": {
            "tags": []
          },
          "execution_count": 56
        }
      ]
    },
    {
      "cell_type": "code",
      "metadata": {
        "id": "csJtHbMIqlK9",
        "colab_type": "code",
        "outputId": "23ea6a90-1831-4d41-bc93-b18275ced5d2",
        "colab": {
          "base_uri": "https://localhost:8080/",
          "height": 35
        }
      },
      "source": [
        "y_train=np.array(df['time'])\n",
        "y_train.shape"
      ],
      "execution_count": 0,
      "outputs": [
        {
          "output_type": "execute_result",
          "data": {
            "text/plain": [
              "(29,)"
            ]
          },
          "metadata": {
            "tags": []
          },
          "execution_count": 60
        }
      ]
    },
    {
      "cell_type": "code",
      "metadata": {
        "id": "EPLFWi3uqqSu",
        "colab_type": "code",
        "outputId": "88e144fc-7ccb-43a4-8c0c-c058b70c5338",
        "colab": {
          "base_uri": "https://localhost:8080/",
          "height": 283
        }
      },
      "source": [
        "#Create model object\n",
        "\n",
        "model = LinearRegression()\n",
        "\n",
        "#Fit model\n",
        "model.fit(x_train,y_train)\n",
        "\n",
        "y_pred = model.predict(x_train)\n",
        "plt.scatter(x_train,y_train)\n",
        "plt.plot(x,y_pred,color='r')"
      ],
      "execution_count": 0,
      "outputs": [
        {
          "output_type": "execute_result",
          "data": {
            "text/plain": [
              "[<matplotlib.lines.Line2D at 0x7f94600267f0>]"
            ]
          },
          "metadata": {
            "tags": []
          },
          "execution_count": 62
        },
        {
          "output_type": "display_data",
          "data": {
            "image/png": "[encoded data removed]",
            "text/plain": [
              "<Figure size 432x288 with 1 Axes>"
            ]
          },
          "metadata": {
            "tags": []
          }
        }
      ]
    },
    {
      "cell_type": "code",
      "metadata": {
        "id": "AuYQYoEgrQfV",
        "colab_type": "code",
        "colab": {}
      },
      "source": [
        "#Predicting for 2020\n",
        "\n",
        "x_2020 = np.array([2020]).reshape(-1,1)"
      ],
      "execution_count": 0,
      "outputs": []
    },
    {
      "cell_type": "code",
      "metadata": {
        "id": "-U0ghJh5r0RJ",
        "colab_type": "code",
        "outputId": "9fb437ff-ce02-4eae-c911-228bcb9c85f6",
        "colab": {
          "base_uri": "https://localhost:8080/",
          "height": 35
        }
      },
      "source": [
        "model.predict(x_2020)"
      ],
      "execution_count": 0,
      "outputs": [
        {
          "output_type": "execute_result",
          "data": {
            "text/plain": [
              "array([9.52679525])"
            ]
          },
          "metadata": {
            "tags": []
          },
          "execution_count": 66
        }
      ]
    },
    {
      "cell_type": "code",
      "metadata": {
        "id": "BhaOui-2r7RG",
        "colab_type": "code",
        "colab": {}
      },
      "source": [
        ""
      ],
      "execution_count": 0,
      "outputs": []
    }
  ]
}